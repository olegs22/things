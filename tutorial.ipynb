{
 "cells": [
  {
   "cell_type": "code",
   "execution_count": 1,
   "metadata": {},
   "outputs": [],
   "source": [
    "import numpy as np\n",
    "import matplotlib.pyplot as plt\n",
    "%matplotlib inline \n",
    "import seaborn as sb\n",
    "sb.set_style(\"white\")"
   ]
  },
  {
   "cell_type": "markdown",
   "metadata": {},
   "source": [
    "# Lest do the trapz rule in a C way"
   ]
  },
  {
   "cell_type": "code",
   "execution_count": 2,
   "metadata": {},
   "outputs": [],
   "source": [
    "def trapz_rule(fun,a,b,N):\n",
    "    delta = (b - a) / (N-1.0)\n",
    "    limits = np.linspace(a,b,N)\n",
    "    \n",
    "    count = 0.0\n",
    "    for i in range(1,N-1):\n",
    "        count += fun(limits[i])\n",
    "    \n",
    "    integral = fun(limits[0]) + 2.0*count + fun(limits[-1])\n",
    "    return (delta/2.0) * integral"
   ]
  },
  {
   "cell_type": "markdown",
   "metadata": {},
   "source": [
    "# The python way"
   ]
  },
  {
   "cell_type": "code",
   "execution_count": 3,
   "metadata": {},
   "outputs": [],
   "source": [
    "def trapz_py(fun,limits):\n",
    "    delta = (limits[-1]-limits[0])/(len(limits)-1.0)\n",
    "    \n",
    "    count = 2.0 * np.sum(fun(limits[1:-1]))\n",
    "    integral = fun(limits[0]) + count + fun(limits[-1])\n",
    "    \n",
    "    return (delta/2.0) * integral"
   ]
  },
  {
   "cell_type": "code",
   "execution_count": 4,
   "metadata": {},
   "outputs": [],
   "source": [
    "kernel = lambda x: np.cos(x)**2"
   ]
  },
  {
   "cell_type": "code",
   "execution_count": 5,
   "metadata": {},
   "outputs": [],
   "source": [
    "x = np.linspace(0.0,np.pi/2.0,11)"
   ]
  },
  {
   "cell_type": "code",
   "execution_count": 6,
   "metadata": {},
   "outputs": [
    {
     "name": "stdout",
     "output_type": "stream",
     "text": [
      "0.7853981633974484\n"
     ]
    }
   ],
   "source": [
    "inte_c = trapz_rule(kernel,0.0,np.pi/2.0,11)\n",
    "print inte_c"
   ]
  },
  {
   "cell_type": "code",
   "execution_count": 7,
   "metadata": {},
   "outputs": [
    {
     "name": "stdout",
     "output_type": "stream",
     "text": [
      "0.7853981633974483\n"
     ]
    }
   ],
   "source": [
    "inte_p = trapz_py(kernel,x)\n",
    "print inte_p"
   ]
  },
  {
   "cell_type": "code",
   "execution_count": 8,
   "metadata": {},
   "outputs": [
    {
     "name": "stdout",
     "output_type": "stream",
     "text": [
      "0.7853981633974483\n"
     ]
    }
   ],
   "source": [
    "inte_py = np.trapz(kernel(x),x)\n",
    "print inte_py"
   ]
  },
  {
   "cell_type": "markdown",
   "metadata": {},
   "source": [
    "# Lets calculate some means\n",
    "first let me show you a fast way to load multiple files"
   ]
  },
  {
   "cell_type": "markdown",
   "metadata": {},
   "source": [
    "here's the link for the data :https://drive.google.com/drive/folders/1aNqqGCEBHvqwE3PdumOQVceiK-t6O-JD?usp=sharing"
   ]
  },
  {
   "cell_type": "code",
   "execution_count": 9,
   "metadata": {},
   "outputs": [],
   "source": [
    "from glob import glob"
   ]
  },
  {
   "cell_type": "code",
   "execution_count": 10,
   "metadata": {},
   "outputs": [],
   "source": [
    "data_buffer = glob('data_mean/data_*.dat')"
   ]
  },
  {
   "cell_type": "code",
   "execution_count": 11,
   "metadata": {},
   "outputs": [
    {
     "name": "stdout",
     "output_type": "stream",
     "text": [
      "['data_mean/data_0.dat', 'data_mean/data_1.dat', 'data_mean/data_2.dat', 'data_mean/data_3.dat', 'data_mean/data_4.dat', 'data_mean/data_5.dat', 'data_mean/data_6.dat', 'data_mean/data_7.dat', 'data_mean/data_8.dat']\n"
     ]
    }
   ],
   "source": [
    "print data_buffer"
   ]
  },
  {
   "cell_type": "code",
   "execution_count": 12,
   "metadata": {},
   "outputs": [],
   "source": [
    "data_cont = [np.loadtxt(d) for d in data_buffer]"
   ]
  },
  {
   "cell_type": "code",
   "execution_count": 13,
   "metadata": {},
   "outputs": [
    {
     "name": "stdout",
     "output_type": "stream",
     "text": [
      "(9, 100)\n"
     ]
    }
   ],
   "source": [
    "print np.shape(data_cont)"
   ]
  },
  {
   "cell_type": "code",
   "execution_count": 14,
   "metadata": {},
   "outputs": [],
   "source": [
    "r = np.linspace(0,500,100)"
   ]
  },
  {
   "cell_type": "code",
   "execution_count": 15,
   "metadata": {},
   "outputs": [
    {
     "data": {
      "image/png": "[encoded data removed]",
      "text/plain": [
       "<matplotlib.figure.Figure at 0x114ca6290>"
      ]
     },
     "metadata": {},
     "output_type": "display_data"
    }
   ],
   "source": [
    "for i in range(len(data_cont)):\n",
    "    plt.plot(r,data_cont[i]*pow(r,2));\n",
    "plt.xlim(20,160);"
   ]
  },
  {
   "cell_type": "code",
   "execution_count": 16,
   "metadata": {},
   "outputs": [],
   "source": [
    "data_array = np.array(data_cont).T"
   ]
  },
  {
   "cell_type": "markdown",
   "metadata": {},
   "source": [
    "with all the possible loops"
   ]
  },
  {
   "cell_type": "code",
   "execution_count": 17,
   "metadata": {},
   "outputs": [],
   "source": [
    "means = np.zeros(len(data_array))\n",
    "for i in range(len(data_array)):\n",
    "    count = 0.0\n",
    "    for j in range(len(data_array.T)):\n",
    "        count += data_array[i][j]\n",
    "    means[i] = count/len(data_array.T)"
   ]
  },
  {
   "cell_type": "markdown",
   "metadata": {},
   "source": [
    "one less loop"
   ]
  },
  {
   "cell_type": "code",
   "execution_count": 18,
   "metadata": {},
   "outputs": [],
   "source": [
    "means_v2 = np.zeros(len(data_array))\n",
    "for i in range(len(data_array)):\n",
    "    means_v2[i] = np.sum(data_array[i]) / len(data_array.T)"
   ]
  },
  {
   "cell_type": "markdown",
   "metadata": {},
   "source": [
    "without loops"
   ]
  },
  {
   "cell_type": "code",
   "execution_count": 19,
   "metadata": {},
   "outputs": [],
   "source": [
    "mean_py = np.sum(data_array,axis=-1) / len(data_array.T)"
   ]
  },
  {
   "cell_type": "code",
   "execution_count": 20,
   "metadata": {},
   "outputs": [
    {
     "data": {
      "image/png": "[encoded data removed]",
      "text/plain": [
       "<matplotlib.figure.Figure at 0x1150ff1d0>"
      ]
     },
     "metadata": {},
     "output_type": "display_data"
    }
   ],
   "source": [
    "plt.plot(r,means_v2*pow(r,2),'*b');\n",
    "plt.plot(r,mean_py*pow(r,2),'.g');\n",
    "plt.plot(r,means*pow(r,2),'r');\n",
    "plt.xlim(20,160);"
   ]
  },
  {
   "cell_type": "markdown",
   "metadata": {},
   "source": [
    "# Calculate the $\\sigma^2$"
   ]
  },
  {
   "cell_type": "code",
   "execution_count": null,
   "metadata": {},
   "outputs": [],
   "source": []
  }
 ],
 "metadata": {
  "kernelspec": {
   "display_name": "Python 2",
   "language": "python",
   "name": "python2"
  },
  "language_info": {
   "codemirror_mode": {
    "name": "ipython",
    "version": 2
   },
   "file_extension": ".py",
   "mimetype": "text/x-python",
   "name": "python",
   "nbconvert_exporter": "python",
   "pygments_lexer": "ipython2",
   "version": "2.7.14"
  }
 },
 "nbformat": 4,
 "nbformat_minor": 2
}
